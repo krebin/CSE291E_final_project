{
 "cells": [
  {
   "cell_type": "code",
   "execution_count": 1,
   "metadata": {},
   "outputs": [],
   "source": [
    "import pickle as pkl"
   ]
  },
  {
   "cell_type": "code",
   "execution_count": 2,
   "metadata": {},
   "outputs": [],
   "source": [
    "F = pkl.load(open(\"stats/base1/stats.pkl\", \"rb\"))"
   ]
  },
  {
   "cell_type": "code",
   "execution_count": 3,
   "metadata": {},
   "outputs": [
    {
     "data": {
      "text/plain": [
       "defaultdict(<function train_utils.rec_dd()>,\n",
       "            {'valid': defaultdict(<function train_utils.rec_dd()>,\n",
       "                         {-1: defaultdict(<function train_utils.rec_dd()>,\n",
       "                                      {'accs': 0.1786359130860379,\n",
       "                                       'loss': 6.551688018978949}),\n",
       "                          0: defaultdict(<function train_utils.rec_dd()>,\n",
       "                                      {'accs': 0.08846041532140315,\n",
       "                                       'loss': 3.1933061598123227}),\n",
       "                          1: defaultdict(<function train_utils.rec_dd()>,\n",
       "                                      {'accs': 0.11621020247843808,\n",
       "                                       'loss': 3.027255565681908}),\n",
       "                          2: defaultdict(<function train_utils.rec_dd()>,\n",
       "                                      {'accs': 0.09447348614155805,\n",
       "                                       'loss': 2.9404021555818556}),\n",
       "                          3: defaultdict(<function train_utils.rec_dd()>,\n",
       "                                      {'accs': 0.13109070194992947,\n",
       "                                       'loss': 2.8956079684059697}),\n",
       "                          4: defaultdict(<function train_utils.rec_dd()>,\n",
       "                                      {'accs': 0.07408991638458975,\n",
       "                                       'loss': 2.861903336960791})}),\n",
       "             'train': defaultdict(<function train_utils.rec_dd()>,\n",
       "                         {0: defaultdict(<function train_utils.rec_dd()>,\n",
       "                                      {'loss': 4.057128996788701,\n",
       "                                       'acc': 0.14111022540323265}),\n",
       "                          1: defaultdict(<function train_utils.rec_dd()>,\n",
       "                                      {'loss': 3.1964030356346806,\n",
       "                                       'acc': 0.1224398580517331}),\n",
       "                          2: defaultdict(<function train_utils.rec_dd()>,\n",
       "                                      {'loss': 3.0450151298619526,\n",
       "                                       'acc': 0.11342293061116171}),\n",
       "                          3: defaultdict(<function train_utils.rec_dd()>,\n",
       "                                      {'loss': 2.966236301615268,\n",
       "                                       'acc': 0.11787951557210799}),\n",
       "                          4: defaultdict(<function train_utils.rec_dd()>,\n",
       "                                      {'loss': 2.9319537078277973,\n",
       "                                       'acc': 0.09420085260745638})}),\n",
       "             'next_epoch': 5,\n",
       "             'best_epoch': 4,\n",
       "             'test': defaultdict(<function train_utils.rec_dd()>,\n",
       "                         {'acc': 0.08236890225918717})})"
      ]
     },
     "execution_count": 3,
     "metadata": {},
     "output_type": "execute_result"
    }
   ],
   "source": [
    "F\n"
   ]
  },
  {
   "cell_type": "code",
   "execution_count": null,
   "metadata": {},
   "outputs": [],
   "source": []
  }
 ],
 "metadata": {
  "kernelspec": {
   "display_name": "Python 3",
   "language": "python",
   "name": "python3"
  },
  "language_info": {
   "codemirror_mode": {
    "name": "ipython",
    "version": 3
   },
   "file_extension": ".py",
   "mimetype": "text/x-python",
   "name": "python",
   "nbconvert_exporter": "python",
   "pygments_lexer": "ipython3",
   "version": "3.7.3"
  }
 },
 "nbformat": 4,
 "nbformat_minor": 2
}
