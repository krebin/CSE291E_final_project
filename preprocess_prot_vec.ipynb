{
 "cells": [
  {
   "cell_type": "code",
   "execution_count": 1,
   "metadata": {},
   "outputs": [],
   "source": [
    "import numpy as np\n",
    "import pickle as pkl\n",
    "import json\n",
    "import csv"
   ]
  },
  {
   "cell_type": "code",
   "execution_count": 2,
   "metadata": {},
   "outputs": [],
   "source": [
    "id_to_acid = ['A', 'C', 'E', 'D', 'G', 'F', 'I', 'H', 'K', 'M', 'L', 'N', 'Q', 'P', 'S', 'R', 'T', 'W', 'V', 'Y', 'X', 'pad']\n",
    "id_to_label = ['L', 'B', 'E', 'G', 'I', 'H', 'S', 'T', 'pad']\n",
    "\n",
    "ppDict={\"A\":[1.28,0.05,1.0,0.31,6.11,0.42,0.23],  \"G\":[0.00,0.00,0.0,0.00,6.07,0.13,0.15],\n",
    "        \"V\":[3.67,0.14,3.0,1.22,6.02,0.27,0.49],  \"L\":[2.59,0.19,4.0,1.70,6.04,0.39,0.31],\n",
    "        \"I\":[4.19,0.19,4.0,1.80,6.04,0.30,0.45],  \"F\":[2.94,0.29,5.89,1.79,5.67,0.3,0.38],\n",
    "        \"Y\":[2.94,0.3,6.47,0.96,5.66,0.25,0.41],  \"W\":[3.21,0.41,8.08,2.25,5.94,0.32,0.42],\n",
    "        \"T\":[3.03,0.11,2.60,0.26,5.6,0.21,0.36],  \"S\":[1.31,0.06,1.6,-0.04,5.7,0.20,0.28],\n",
    "        \"R\":[2.34,0.29,6.13,-1.01,10.74,0.36,0.25],\"K\":[1.89,0.22,4.77,-0.99,9.99,0.32,0.27],\n",
    "        \"H\":[2.99,0.23,4.66,0.13,7.69,0.27,0.3],   \"D\":[1.6,0.11,2.78,-0.77,2.95,0.25,0.20],\n",
    "        \"E\":[1.56,0.15,3.78,-0.64,3.09,0.42,0.21], \"N\":[1.6,0.13,2.95,-0.6,6.52,0.21,0.22],\n",
    "        \"Q\":[1.56,0.18,3.95,-0.22,5.65,0.36,0.25], \"M\":[2.35,0.22,4.43,1.23,5.71,0.38,0.32],\n",
    "        \"P\":[2.67,0.0,2.72,0.72,6.8,0.13,0.34],    \"C\":[1.77,0.13,2.43,1.54,6.35,0.17,0.41],\n",
    "        \"X\":[0, 0, 0, 0, 0, 0, 0], \"pad\": [0, 0, 0, 0, 0, 0, 0]}\n",
    "\n",
    "protein_to_id = {id_to_acid[i]: i for i in range(len(id_to_acid))}\n",
    "label_to_id = {id_to_label[i]: i for i in range(len(id_to_label))}\n",
    "noseq_id_acid = 21\n",
    "noseq_id_label = 8"
   ]
  },
  {
   "cell_type": "code",
   "execution_count": 3,
   "metadata": {},
   "outputs": [],
   "source": [
    "def create_new_encoding(data, data_name, prot_vec=False):\n",
    "    formatted_data = {}\n",
    "    \n",
    "    for j, protein_seq in enumerate(data):\n",
    "        protein_length = 0\n",
    "        secondary_structure_onehot = []\n",
    "        primary_structure = \"\"\n",
    "        secondary_structure = \"\"\n",
    "        new_encoding = []\n",
    "        acid_ids = []\n",
    "\n",
    "        for i in range(700):\n",
    "\n",
    "            acid_start = i * 57\n",
    "            acid_end = (i + 1) * 57\n",
    "\n",
    "            acid_properties = protein_seq[acid_start:acid_end]\n",
    "\n",
    "            one_hot_encoding_acid = acid_properties[:22]\n",
    "            one_hot_encoding_label = acid_properties[22:31]\n",
    "            \n",
    "            PSSM = acid_properties[35:56]\n",
    "\n",
    "            acid_id = np.argmax(one_hot_encoding_acid)\n",
    "            acid_ids.append(acid_id)\n",
    "            \n",
    "            label_id = np.argmax(one_hot_encoding_label)\n",
    "\n",
    "            # Add 1e-4 for numerical stability\n",
    "            one_dim_conservation = [np.log(21) + np.sum(PSSM * np.log(PSSM + 1e-4))]\n",
    "\n",
    "            if acid_id == noseq_id_acid and label_id == noseq_id_label:\n",
    "                pass\n",
    "            else:            \n",
    "                primary_structure += id_to_acid[acid_id]\n",
    "                secondary_structure += id_to_label[label_id]\n",
    "                protein_length += 1               \n",
    "                \n",
    "            # ProtVec \n",
    "            if (prot_vec):\n",
    "                \n",
    "                if (i >= 2) and (acid_id != 21): \n",
    "                    triplet = id_to_acid[acid_ids[i-2]]+id_to_acid[acid_ids[i-1]]+id_to_acid[acid_ids[i]]\n",
    "                    try:\n",
    "                        prot_vec_encoding_acid = prot_to_vec[triplet]\n",
    "                    except:\n",
    "                        prot_vec_encoding_acid = list(np.zeros(100))\n",
    "                    #print(\"triplet\")\n",
    "\n",
    "                else:\n",
    "                    prot_vec_encoding_acid = list(np.zeros(100))\n",
    "                    #print(\"zero\")\n",
    "                    \n",
    "                new_encoding += prot_vec_encoding_acid\n",
    "                \n",
    "            \n",
    "            else:\n",
    "                new_encoding += list(one_hot_encoding_acid[:22])\n",
    "                new_encoding += list(ppDict[id_to_acid[acid_id]])\n",
    "                new_encoding += list(PSSM)\n",
    "                new_encoding += list(one_dim_conservation)\n",
    "\n",
    "            secondary_structure_onehot += list(one_hot_encoding_label[:9])\n",
    "            \n",
    "        if (prot_vec):\n",
    "            reformat = new_encoding[200:] + new_encoding[:200]\n",
    "            new_encoding = reformat\n",
    "                                   \n",
    "        formatted_data[j] = {}\n",
    "        formatted_data[j][\"protein_encoding\"] = new_encoding\n",
    "        formatted_data[j][\"protein_length\"] = protein_length\n",
    "        formatted_data[j][\"secondary_structure_onehot\"] = secondary_structure_onehot\n",
    "        formatted_data[j][\"secondary_structure\"] = secondary_structure\n",
    "        formatted_data[j][\"primary_structure\"] = primary_structure\n",
    "        \n",
    "        if j % 100 == 0:\n",
    "            print(j)\n",
    "\n",
    "    return formatted_data"
   ]
  },
  {
   "cell_type": "code",
   "execution_count": 4,
   "metadata": {},
   "outputs": [],
   "source": [
    "TR5534_data = np.load(\"cullpdb+profile_5926.npy\")\n",
    "CB513_data = np.load(\"cb513+profile_split1.npy\")"
   ]
  },
  {
   "cell_type": "code",
   "execution_count": 5,
   "metadata": {},
   "outputs": [],
   "source": [
    "prot_vec_reader = csv.reader(open('protVec_100d_3grams.csv'))\n",
    "\n",
    "prot_to_vec = {}\n",
    "\n",
    "with open('protVec_100d_3grams.csv', newline = '') as prot_vec:   \n",
    "    \n",
    "    prot_vec_reader = csv.reader(prot_vec, delimiter='\\t')\n",
    "    next(prot_vec_reader)\n",
    "    \n",
    "    for row in prot_vec_reader:\n",
    "        key = row[0]\n",
    "        prot_to_vec[key] = list(np.float_(row[1:]))"
   ]
  },
  {
   "cell_type": "code",
   "execution_count": 6,
   "metadata": {},
   "outputs": [
    {
     "name": "stdout",
     "output_type": "stream",
     "text": [
      "0\n",
      "100\n",
      "200\n",
      "300\n",
      "400\n",
      "500\n"
     ]
    }
   ],
   "source": [
    "cb513_prot_vec_only = create_new_encoding(CB513_data, \"CB513_prot_vec_only\", prot_vec=True)"
   ]
  },
  {
   "cell_type": "code",
   "execution_count": 10,
   "metadata": {},
   "outputs": [],
   "source": [
    "with open('CB513_prot_vec_only.json', 'w') as outfile:\n",
    "    json.dump(cb513_prot_vec_only, outfile)"
   ]
  },
  {
   "cell_type": "code",
   "execution_count": 7,
   "metadata": {},
   "outputs": [],
   "source": [
    "# tr5534_prot_vec_only = create_new_encoding(TR5534_data, \"TR5534_prot_vec_only\", prot_vec=True)"
   ]
  },
  {
   "cell_type": "code",
   "execution_count": 8,
   "metadata": {},
   "outputs": [],
   "source": [
    "# with open('TR5534_prot_vec_only.json', 'w') as outfile:\n",
    "#     json.dump(tr5534_prot_vec_only, outfile)"
   ]
  },
  {
   "cell_type": "code",
   "execution_count": 11,
   "metadata": {},
   "outputs": [],
   "source": [
    "# cb513_formatted = create_new_encoding(CB513_data, \"CB513\")"
   ]
  },
  {
   "cell_type": "code",
   "execution_count": 6,
   "metadata": {},
   "outputs": [],
   "source": [
    "# with open('CB513.json', 'w') as outfile:\n",
    "#     json.dump(cb513_formatted, outfile)"
   ]
  },
  {
   "cell_type": "code",
   "execution_count": 12,
   "metadata": {
    "scrolled": false
   },
   "outputs": [],
   "source": [
    "# tr5534_formatted = create_new_encoding(TR5534_data, \"TR5534\")"
   ]
  },
  {
   "cell_type": "code",
   "execution_count": 8,
   "metadata": {},
   "outputs": [],
   "source": [
    "# with open('TR5534.json', 'w') as outfile:\n",
    "#     json.dump(tr5534_formatted, outfile)"
   ]
  },
  {
   "cell_type": "code",
   "execution_count": null,
   "metadata": {},
   "outputs": [],
   "source": []
  }
 ],
 "metadata": {
  "kernelspec": {
   "display_name": "Python 3",
   "language": "python",
   "name": "python3"
  },
  "language_info": {
   "codemirror_mode": {
    "name": "ipython",
    "version": 3
   },
   "file_extension": ".py",
   "mimetype": "text/x-python",
   "name": "python",
   "nbconvert_exporter": "python",
   "pygments_lexer": "ipython3",
   "version": "3.7.3"
  }
 },
 "nbformat": 4,
 "nbformat_minor": 2
}
